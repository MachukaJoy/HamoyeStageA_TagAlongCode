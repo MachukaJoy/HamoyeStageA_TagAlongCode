{
  "nbformat": 4,
  "nbformat_minor": 0,
  "metadata": {
    "colab": {
      "provenance": []
    },
    "kernelspec": {
      "name": "python3",
      "display_name": "Python 3"
    },
    "language_info": {
      "name": "python"
    }
  },
  "cells": [
    {
      "cell_type": "code",
      "execution_count": 4,
      "metadata": {
        "id": "NHL6_dedwX-u"
      },
      "outputs": [],
      "source": [
        "import pandas as pd\n",
        "import numpy as np"
      ]
    },
    {
      "cell_type": "code",
      "source": [
        "df = pd.read_csv(\"https://github.com/HamoyeHQ/HDSC-Introduction-to-Python-for-machine-learning/files/7768140/FoodBalanceSheets_E_Africa_NOFLAG.csv\", encoding='latin-1')"
      ],
      "metadata": {
        "id": "LhAHXQZSwerm"
      },
      "execution_count": 5,
      "outputs": []
    },
    {
      "cell_type": "code",
      "source": [
        "df.info()"
      ],
      "metadata": {
        "colab": {
          "base_uri": "https://localhost:8080/"
        },
        "id": "pV07CkWY0vbd",
        "outputId": "b5ceed92-7bcd-43ee-bccb-81dc20210b04"
      },
      "execution_count": 6,
      "outputs": [
        {
          "output_type": "stream",
          "name": "stdout",
          "text": [
            "<class 'pandas.core.frame.DataFrame'>\n",
            "RangeIndex: 60943 entries, 0 to 60942\n",
            "Data columns (total 12 columns):\n",
            " #   Column        Non-Null Count  Dtype  \n",
            "---  ------        --------------  -----  \n",
            " 0   Area Code     60943 non-null  int64  \n",
            " 1   Area          60943 non-null  object \n",
            " 2   Item Code     60943 non-null  int64  \n",
            " 3   Item          60943 non-null  object \n",
            " 4   Element Code  60943 non-null  int64  \n",
            " 5   Element       60943 non-null  object \n",
            " 6   Unit          60943 non-null  object \n",
            " 7   Y2014         59354 non-null  float64\n",
            " 8   Y2015         59395 non-null  float64\n",
            " 9   Y2016         59408 non-null  float64\n",
            " 10  Y2017         59437 non-null  float64\n",
            " 11  Y2018         59507 non-null  float64\n",
            "dtypes: float64(5), int64(3), object(4)\n",
            "memory usage: 5.6+ MB\n"
          ]
        }
      ]
    },
    {
      "cell_type": "code",
      "source": [
        "df.shape"
      ],
      "metadata": {
        "colab": {
          "base_uri": "https://localhost:8080/"
        },
        "id": "gu69XfpvBdnA",
        "outputId": "7412f0b2-f2a4-41bb-8a31-10a34efae371"
      },
      "execution_count": 7,
      "outputs": [
        {
          "output_type": "execute_result",
          "data": {
            "text/plain": [
              "(60943, 12)"
            ]
          },
          "metadata": {},
          "execution_count": 7
        }
      ]
    },
    {
      "cell_type": "code",
      "source": [
        "df.head()"
      ],
      "metadata": {
        "colab": {
          "base_uri": "https://localhost:8080/",
          "height": 206
        },
        "id": "SdeBJvbOxLIW",
        "outputId": "ca325667-5a32-4349-bd19-7e33694d4be7"
      },
      "execution_count": 8,
      "outputs": [
        {
          "output_type": "execute_result",
          "data": {
            "text/plain": [
              "   Area Code     Area  Item Code         Item  Element Code  \\\n",
              "0          4  Algeria       2501   Population           511   \n",
              "1          4  Algeria       2501   Population          5301   \n",
              "2          4  Algeria       2901  Grand Total           664   \n",
              "3          4  Algeria       2901  Grand Total           674   \n",
              "4          4  Algeria       2901  Grand Total           684   \n",
              "\n",
              "                                  Element             Unit     Y2014  \\\n",
              "0           Total Population - Both sexes     1000 persons  38924.00   \n",
              "1                Domestic supply quantity      1000 tonnes      0.00   \n",
              "2           Food supply (kcal/capita/day)  kcal/capita/day   3377.00   \n",
              "3  Protein supply quantity (g/capita/day)     g/capita/day     94.90   \n",
              "4      Fat supply quantity (g/capita/day)     g/capita/day     80.06   \n",
              "\n",
              "      Y2015     Y2016     Y2017     Y2018  \n",
              "0  39728.00  40551.00  41389.00  42228.00  \n",
              "1      0.00      0.00      0.00      0.00  \n",
              "2   3379.00   3372.00   3341.00   3322.00  \n",
              "3     94.35     94.72     92.82     91.83  \n",
              "4     79.36     77.40     80.19     77.28  "
            ],
            "text/html": [
              "\n",
              "  <div id=\"df-7e2241d1-9aac-4ff6-aa65-c35ec045bf08\">\n",
              "    <div class=\"colab-df-container\">\n",
              "      <div>\n",
              "<style scoped>\n",
              "    .dataframe tbody tr th:only-of-type {\n",
              "        vertical-align: middle;\n",
              "    }\n",
              "\n",
              "    .dataframe tbody tr th {\n",
              "        vertical-align: top;\n",
              "    }\n",
              "\n",
              "    .dataframe thead th {\n",
              "        text-align: right;\n",
              "    }\n",
              "</style>\n",
              "<table border=\"1\" class=\"dataframe\">\n",
              "  <thead>\n",
              "    <tr style=\"text-align: right;\">\n",
              "      <th></th>\n",
              "      <th>Area Code</th>\n",
              "      <th>Area</th>\n",
              "      <th>Item Code</th>\n",
              "      <th>Item</th>\n",
              "      <th>Element Code</th>\n",
              "      <th>Element</th>\n",
              "      <th>Unit</th>\n",
              "      <th>Y2014</th>\n",
              "      <th>Y2015</th>\n",
              "      <th>Y2016</th>\n",
              "      <th>Y2017</th>\n",
              "      <th>Y2018</th>\n",
              "    </tr>\n",
              "  </thead>\n",
              "  <tbody>\n",
              "    <tr>\n",
              "      <th>0</th>\n",
              "      <td>4</td>\n",
              "      <td>Algeria</td>\n",
              "      <td>2501</td>\n",
              "      <td>Population</td>\n",
              "      <td>511</td>\n",
              "      <td>Total Population - Both sexes</td>\n",
              "      <td>1000 persons</td>\n",
              "      <td>38924.00</td>\n",
              "      <td>39728.00</td>\n",
              "      <td>40551.00</td>\n",
              "      <td>41389.00</td>\n",
              "      <td>42228.00</td>\n",
              "    </tr>\n",
              "    <tr>\n",
              "      <th>1</th>\n",
              "      <td>4</td>\n",
              "      <td>Algeria</td>\n",
              "      <td>2501</td>\n",
              "      <td>Population</td>\n",
              "      <td>5301</td>\n",
              "      <td>Domestic supply quantity</td>\n",
              "      <td>1000 tonnes</td>\n",
              "      <td>0.00</td>\n",
              "      <td>0.00</td>\n",
              "      <td>0.00</td>\n",
              "      <td>0.00</td>\n",
              "      <td>0.00</td>\n",
              "    </tr>\n",
              "    <tr>\n",
              "      <th>2</th>\n",
              "      <td>4</td>\n",
              "      <td>Algeria</td>\n",
              "      <td>2901</td>\n",
              "      <td>Grand Total</td>\n",
              "      <td>664</td>\n",
              "      <td>Food supply (kcal/capita/day)</td>\n",
              "      <td>kcal/capita/day</td>\n",
              "      <td>3377.00</td>\n",
              "      <td>3379.00</td>\n",
              "      <td>3372.00</td>\n",
              "      <td>3341.00</td>\n",
              "      <td>3322.00</td>\n",
              "    </tr>\n",
              "    <tr>\n",
              "      <th>3</th>\n",
              "      <td>4</td>\n",
              "      <td>Algeria</td>\n",
              "      <td>2901</td>\n",
              "      <td>Grand Total</td>\n",
              "      <td>674</td>\n",
              "      <td>Protein supply quantity (g/capita/day)</td>\n",
              "      <td>g/capita/day</td>\n",
              "      <td>94.90</td>\n",
              "      <td>94.35</td>\n",
              "      <td>94.72</td>\n",
              "      <td>92.82</td>\n",
              "      <td>91.83</td>\n",
              "    </tr>\n",
              "    <tr>\n",
              "      <th>4</th>\n",
              "      <td>4</td>\n",
              "      <td>Algeria</td>\n",
              "      <td>2901</td>\n",
              "      <td>Grand Total</td>\n",
              "      <td>684</td>\n",
              "      <td>Fat supply quantity (g/capita/day)</td>\n",
              "      <td>g/capita/day</td>\n",
              "      <td>80.06</td>\n",
              "      <td>79.36</td>\n",
              "      <td>77.40</td>\n",
              "      <td>80.19</td>\n",
              "      <td>77.28</td>\n",
              "    </tr>\n",
              "  </tbody>\n",
              "</table>\n",
              "</div>\n",
              "      <button class=\"colab-df-convert\" onclick=\"convertToInteractive('df-7e2241d1-9aac-4ff6-aa65-c35ec045bf08')\"\n",
              "              title=\"Convert this dataframe to an interactive table.\"\n",
              "              style=\"display:none;\">\n",
              "        \n",
              "  <svg xmlns=\"http://www.w3.org/2000/svg\" height=\"24px\"viewBox=\"0 0 24 24\"\n",
              "       width=\"24px\">\n",
              "    <path d=\"M0 0h24v24H0V0z\" fill=\"none\"/>\n",
              "    <path d=\"M18.56 5.44l.94 2.06.94-2.06 2.06-.94-2.06-.94-.94-2.06-.94 2.06-2.06.94zm-11 1L8.5 8.5l.94-2.06 2.06-.94-2.06-.94L8.5 2.5l-.94 2.06-2.06.94zm10 10l.94 2.06.94-2.06 2.06-.94-2.06-.94-.94-2.06-.94 2.06-2.06.94z\"/><path d=\"M17.41 7.96l-1.37-1.37c-.4-.4-.92-.59-1.43-.59-.52 0-1.04.2-1.43.59L10.3 9.45l-7.72 7.72c-.78.78-.78 2.05 0 2.83L4 21.41c.39.39.9.59 1.41.59.51 0 1.02-.2 1.41-.59l7.78-7.78 2.81-2.81c.8-.78.8-2.07 0-2.86zM5.41 20L4 18.59l7.72-7.72 1.47 1.35L5.41 20z\"/>\n",
              "  </svg>\n",
              "      </button>\n",
              "      \n",
              "  <style>\n",
              "    .colab-df-container {\n",
              "      display:flex;\n",
              "      flex-wrap:wrap;\n",
              "      gap: 12px;\n",
              "    }\n",
              "\n",
              "    .colab-df-convert {\n",
              "      background-color: #E8F0FE;\n",
              "      border: none;\n",
              "      border-radius: 50%;\n",
              "      cursor: pointer;\n",
              "      display: none;\n",
              "      fill: #1967D2;\n",
              "      height: 32px;\n",
              "      padding: 0 0 0 0;\n",
              "      width: 32px;\n",
              "    }\n",
              "\n",
              "    .colab-df-convert:hover {\n",
              "      background-color: #E2EBFA;\n",
              "      box-shadow: 0px 1px 2px rgba(60, 64, 67, 0.3), 0px 1px 3px 1px rgba(60, 64, 67, 0.15);\n",
              "      fill: #174EA6;\n",
              "    }\n",
              "\n",
              "    [theme=dark] .colab-df-convert {\n",
              "      background-color: #3B4455;\n",
              "      fill: #D2E3FC;\n",
              "    }\n",
              "\n",
              "    [theme=dark] .colab-df-convert:hover {\n",
              "      background-color: #434B5C;\n",
              "      box-shadow: 0px 1px 3px 1px rgba(0, 0, 0, 0.15);\n",
              "      filter: drop-shadow(0px 1px 2px rgba(0, 0, 0, 0.3));\n",
              "      fill: #FFFFFF;\n",
              "    }\n",
              "  </style>\n",
              "\n",
              "      <script>\n",
              "        const buttonEl =\n",
              "          document.querySelector('#df-7e2241d1-9aac-4ff6-aa65-c35ec045bf08 button.colab-df-convert');\n",
              "        buttonEl.style.display =\n",
              "          google.colab.kernel.accessAllowed ? 'block' : 'none';\n",
              "\n",
              "        async function convertToInteractive(key) {\n",
              "          const element = document.querySelector('#df-7e2241d1-9aac-4ff6-aa65-c35ec045bf08');\n",
              "          const dataTable =\n",
              "            await google.colab.kernel.invokeFunction('convertToInteractive',\n",
              "                                                     [key], {});\n",
              "          if (!dataTable) return;\n",
              "\n",
              "          const docLinkHtml = 'Like what you see? Visit the ' +\n",
              "            '<a target=\"_blank\" href=https://colab.research.google.com/notebooks/data_table.ipynb>data table notebook</a>'\n",
              "            + ' to learn more about interactive tables.';\n",
              "          element.innerHTML = '';\n",
              "          dataTable['output_type'] = 'display_data';\n",
              "          await google.colab.output.renderOutput(dataTable, element);\n",
              "          const docLink = document.createElement('div');\n",
              "          docLink.innerHTML = docLinkHtml;\n",
              "          element.appendChild(docLink);\n",
              "        }\n",
              "      </script>\n",
              "    </div>\n",
              "  </div>\n",
              "  "
            ]
          },
          "metadata": {},
          "execution_count": 8
        }
      ]
    },
    {
      "cell_type": "code",
      "source": [
        "df.columns"
      ],
      "metadata": {
        "colab": {
          "base_uri": "https://localhost:8080/"
        },
        "id": "1Gt7HZ8gyrzv",
        "outputId": "a84c8f40-e7af-4cc4-9b0d-1b82e3ac9291"
      },
      "execution_count": 9,
      "outputs": [
        {
          "output_type": "execute_result",
          "data": {
            "text/plain": [
              "Index(['Area Code', 'Area', 'Item Code', 'Item', 'Element Code', 'Element',\n",
              "       'Unit', 'Y2014', 'Y2015', 'Y2016', 'Y2017', 'Y2018'],\n",
              "      dtype='object')"
            ]
          },
          "metadata": {},
          "execution_count": 9
        }
      ]
    },
    {
      "cell_type": "markdown",
      "source": [
        "Perform a groupby operation on ‘Element’.  What year has the highest sum of Stock Variation?"
      ],
      "metadata": {
        "id": "achTIhVoCG9w"
      }
    },
    {
      "cell_type": "code",
      "source": [
        "y_2016 = df.groupby('Element')['Y2016'].sum()\n",
        "y_2014 = df.groupby('Element')['Y2014'].sum()\n",
        "y_2017 = df.groupby('Element')['Y2017'].sum()\n",
        "y_2015 = df.groupby('Element')['Y2015'].sum()\n",
        "print(y_2016)\n",
        "print(y_2014)\n",
        "print(y_2017)\n",
        "print(y_2015)"
      ],
      "metadata": {
        "colab": {
          "base_uri": "https://localhost:8080/"
        },
        "id": "0jP8o9LuxOTu",
        "outputId": "f82ce838-0235-4621-b013-990bf5b151fe"
      },
      "execution_count": 10,
      "outputs": [
        {
          "output_type": "stream",
          "name": "stdout",
          "text": [
            "Element\n",
            "Domestic supply quantity                  2044842.70\n",
            "Export Quantity                            151920.46\n",
            "Fat supply quantity (g/capita/day)          10102.77\n",
            "Feed                                       228958.65\n",
            "Food                                      1247022.17\n",
            "Food supply (kcal/capita/day)              451810.00\n",
            "Food supply quantity (kg/capita/yr)         48985.28\n",
            "Import Quantity                            286582.78\n",
            "Losses                                     157787.00\n",
            "Other uses (non-food)                       69563.68\n",
            "Processing                                 280631.00\n",
            "Production                                1943537.15\n",
            "Protein supply quantity (g/capita/day)      11779.69\n",
            "Residuals                                   37224.00\n",
            "Seed                                        23389.20\n",
            "Stock Variation                             33140.12\n",
            "Total Population - Both sexes             1085107.00\n",
            "Tourist consumption                            89.00\n",
            "Name: Y2016, dtype: float64\n",
            "Element\n",
            "Domestic supply quantity                  1996716.35\n",
            "Export Quantity                            150020.64\n",
            "Fat supply quantity (g/capita/day)          10225.56\n",
            "Feed                                       216927.89\n",
            "Food                                      1212332.49\n",
            "Food supply (kcal/capita/day)              454257.00\n",
            "Food supply quantity (kg/capita/yr)         49650.63\n",
            "Import Quantity                            274144.48\n",
            "Losses                                     153223.00\n",
            "Other uses (non-food)                       78718.13\n",
            "Processing                                 282923.00\n",
            "Production                                1931287.75\n",
            "Protein supply quantity (g/capita/day)      11836.46\n",
            "Residuals                                   30149.00\n",
            "Seed                                        21922.92\n",
            "Stock Variation                             58749.83\n",
            "Total Population - Both sexes             1031585.00\n",
            "Tourist consumption                           416.00\n",
            "Name: Y2014, dtype: float64\n",
            "Element\n",
            "Domestic supply quantity                  2088198.10\n",
            "Export Quantity                            182338.80\n",
            "Fat supply quantity (g/capita/day)          10253.84\n",
            "Feed                                       223705.68\n",
            "Food                                      1258888.28\n",
            "Food supply (kcal/capita/day)              454681.00\n",
            "Food supply quantity (kg/capita/yr)         48690.04\n",
            "Import Quantity                            294559.09\n",
            "Losses                                     160614.00\n",
            "Other uses (non-food)                       91645.97\n",
            "Processing                                 292836.00\n",
            "Production                                2030056.89\n",
            "Protein supply quantity (g/capita/day)      11842.45\n",
            "Residuals                                   35500.00\n",
            "Seed                                        24870.14\n",
            "Stock Variation                             54316.91\n",
            "Total Population - Both sexes             1112641.00\n",
            "Tourist consumption                            91.00\n",
            "Name: Y2017, dtype: float64\n",
            "Element\n",
            "Domestic supply quantity                  2021493.55\n",
            "Export Quantity                            157614.47\n",
            "Fat supply quantity (g/capita/day)          10235.74\n",
            "Feed                                       225050.22\n",
            "Food                                      1232361.10\n",
            "Food supply (kcal/capita/day)              453383.00\n",
            "Food supply quantity (kg/capita/yr)         49345.13\n",
            "Import Quantity                            267018.46\n",
            "Losses                                     155439.00\n",
            "Other uses (non-food)                       66254.41\n",
            "Processing                                 287929.00\n",
            "Production                                1947019.39\n",
            "Protein supply quantity (g/capita/day)      11833.95\n",
            "Residuals                                   30045.00\n",
            "Seed                                        23976.82\n",
            "Stock Variation                             34910.99\n",
            "Total Population - Both sexes             1058081.00\n",
            "Tourist consumption                           349.00\n",
            "Name: Y2015, dtype: float64\n"
          ]
        }
      ]
    },
    {
      "cell_type": "markdown",
      "source": [
        "Which year had the least correlation with ‘Element Code’?"
      ],
      "metadata": {
        "id": "neLYoBozCOLo"
      }
    },
    {
      "cell_type": "code",
      "source": [
        "# correlations = df.groupby('Element Code')['Y2017'].corr().abs()\n",
        "# print(correlations)"
      ],
      "metadata": {
        "id": "mpoNEgRnzmjE"
      },
      "execution_count": 43,
      "outputs": []
    },
    {
      "cell_type": "markdown",
      "source": [
        "Select columns ‘Y2017’ and ‘Area’, Perform a groupby operation on ‘Area’.  Which of these Areas had the 7th lowest sum in 2017?"
      ],
      "metadata": {
        "id": "angALxUolmZn"
      }
    },
    {
      "cell_type": "code",
      "source": [
        "selected_data = df[['Y2017', 'Area']]\n",
        "grouped_data = selected_data.groupby('Area')['Y2017'].sum()\n",
        "sorted_data = grouped_data.sort_values(ascending=True)\n"
      ],
      "metadata": {
        "id": "YnoqV4Y116Pn"
      },
      "execution_count": 12,
      "outputs": []
    },
    {
      "cell_type": "code",
      "source": [
        "sorted_data"
      ],
      "metadata": {
        "colab": {
          "base_uri": "https://localhost:8080/"
        },
        "id": "3JXIFzYE2MO-",
        "outputId": "2afdc4c3-a0b3-4546-98e1-a56c92bb5f1d"
      },
      "execution_count": 13,
      "outputs": [
        {
          "output_type": "execute_result",
          "data": {
            "text/plain": [
              "Area\n",
              "Sudan (former)                       0.00\n",
              "Ethiopia PDR                         0.00\n",
              "Comoros                             59.84\n",
              "Seychelles                         442.34\n",
              "Sao Tome and Principe            12662.63\n",
              "Cabo Verde                       14650.74\n",
              "Guinea-Bissau                    19102.77\n",
              "Lesotho                          21267.96\n",
              "Botswana                         22101.30\n",
              "Djibouti                         22729.91\n",
              "Gambia                           23154.18\n",
              "Gabon                            27979.64\n",
              "Liberia                          29342.20\n",
              "Namibia                          29874.89\n",
              "Central African Republic         29937.00\n",
              "Congo                            41181.68\n",
              "Togo                             49841.88\n",
              "Mauritius                        51114.83\n",
              "Eswatini                         54343.33\n",
              "Sierra Leone                     55311.33\n",
              "Chad                             71594.68\n",
              "Rwanda                           73663.69\n",
              "Zimbabwe                         75919.34\n",
              "Senegal                          95681.15\n",
              "Guinea                           98138.87\n",
              "Burkina Faso                    101855.07\n",
              "Zambia                          103223.77\n",
              "Tunisia                         124167.20\n",
              "Benin                           124771.22\n",
              "Niger                           126707.58\n",
              "Madagascar                      131197.73\n",
              "Mali                            149928.33\n",
              "Mauritania                      156665.46\n",
              "Mozambique                      161407.98\n",
              "Malawi                          181098.71\n",
              "Uganda                          213950.38\n",
              "Côte d'Ivoire                   224599.01\n",
              "Angola                          229159.57\n",
              "Cameroon                        232030.43\n",
              "Sudan                           239931.92\n",
              "Kenya                           264660.66\n",
              "United Republic of Tanzania     322616.85\n",
              "Algeria                         325644.27\n",
              "Ghana                           337599.06\n",
              "Morocco                         388495.36\n",
              "Ethiopia                        448683.76\n",
              "South Africa                    517590.54\n",
              "Egypt                           866379.92\n",
              "Nigeria                        1483268.23\n",
              "Name: Y2017, dtype: float64"
            ]
          },
          "metadata": {},
          "execution_count": 13
        }
      ]
    },
    {
      "cell_type": "code",
      "source": [
        "area_with_seventh_lowest_sum = sorted_data.iloc[6]\n",
        "print(area_with_seventh_lowest_sum)"
      ],
      "metadata": {
        "colab": {
          "base_uri": "https://localhost:8080/"
        },
        "id": "q8SNwXEC2Xdu",
        "outputId": "9d88a3a1-981c-410c-c733-21eb328303a8"
      },
      "execution_count": 14,
      "outputs": [
        {
          "output_type": "stream",
          "name": "stdout",
          "text": [
            "19102.77\n"
          ]
        }
      ]
    },
    {
      "cell_type": "markdown",
      "source": [
        "Consider the following list of tuples:\n",
        "\n",
        "y = [(2, 4), (7, 8), (1, 5, 9)]\n",
        "\n",
        "How would you assign element 8 from the list to a variable x?"
      ],
      "metadata": {
        "id": "aDTdQMXClyLD"
      }
    },
    {
      "cell_type": "code",
      "source": [
        "y = [(2, 4), (7, 8), (1, 5, 9)]\n",
        "x = y[1][1]\n",
        "print(x)"
      ],
      "metadata": {
        "colab": {
          "base_uri": "https://localhost:8080/"
        },
        "id": "Lfo2PfRwl2OG",
        "outputId": "1da20128-25ef-430c-86ee-a3a08df04680"
      },
      "execution_count": 3,
      "outputs": [
        {
          "output_type": "stream",
          "name": "stdout",
          "text": [
            "8\n"
          ]
        }
      ]
    },
    {
      "cell_type": "markdown",
      "source": [
        "What is the mean and standard deviation across the whole dataset for the year 2017 to 2 decimal places?"
      ],
      "metadata": {
        "id": "OtMoQ_RdmUSQ"
      }
    },
    {
      "cell_type": "code",
      "source": [
        "# Filter the dataset for the year 2017\n",
        "mean2017 = df['Y2017'].mean().round(2)\n",
        "std2017 =df['Y2017'].std().round()\n",
        "print(mean2017)\n",
        "print(std2017)\n"
      ],
      "metadata": {
        "colab": {
          "base_uri": "https://localhost:8080/"
        },
        "id": "0gmvim8s3AI7",
        "outputId": "a422186a-adac-4a91-850d-d02d314b7c0d"
      },
      "execution_count": 17,
      "outputs": [
        {
          "output_type": "stream",
          "name": "stdout",
          "text": [
            "140.92\n",
            "1672.0\n"
          ]
        }
      ]
    },
    {
      "cell_type": "markdown",
      "source": [
        "What is the total number and percentage of missing data in 2014 to 3 decimal places?"
      ],
      "metadata": {
        "id": "-6iYn-sioeP3"
      }
    },
    {
      "cell_type": "code",
      "source": [
        "df['Y2014'].isnull().sum()"
      ],
      "metadata": {
        "colab": {
          "base_uri": "https://localhost:8080/"
        },
        "id": "Nmjzsilc7Hml",
        "outputId": "31bbed4c-0274-47fb-b978-ff88a5523cdd"
      },
      "execution_count": null,
      "outputs": [
        {
          "output_type": "execute_result",
          "data": {
            "text/plain": [
              "1589"
            ]
          },
          "metadata": {},
          "execution_count": 40
        }
      ]
    },
    {
      "cell_type": "markdown",
      "source": [
        "Select columns ‘Y2017’ and ‘Area’, Perform a groupby operation on ‘Area’.  Which of these Areas had the highest sum in 2017?"
      ],
      "metadata": {
        "id": "lE5LpM9soj5F"
      }
    },
    {
      "cell_type": "code",
      "source": [
        "y_2017 = df.groupby('Area')['Y2017'].sum()\n",
        "print(y_2017.idxmax())"
      ],
      "metadata": {
        "colab": {
          "base_uri": "https://localhost:8080/"
        },
        "id": "LBjVTsKjozL-",
        "outputId": "5c14499f-8744-4cb1-d351-74df69e736c7"
      },
      "execution_count": 18,
      "outputs": [
        {
          "output_type": "stream",
          "name": "stdout",
          "text": [
            "Nigeria\n"
          ]
        }
      ]
    },
    {
      "cell_type": "markdown",
      "source": [
        "Given the following numpy array \n",
        "\n",
        "array  = <br>\n",
        "([[94, 89, 63],<br>\n",
        "          [93, 92, 48],<br>\n",
        "          [92, 94, 56]])<br>\n",
        "\n",
        "How would you select  the elements in bold and italics from the array?"
      ],
      "metadata": {
        "id": "CJ2vENymqJeU"
      }
    },
    {
      "cell_type": "code",
      "source": [
        "array = np.array([[94, 89, 63],\n",
        "                  [93, 92, 48],\n",
        "                  [92, 94, 56]])\n",
        "# Selecting the elements in bold (89 and 63 92 48)\n",
        "print(array[ : 2, 1 : ])"
      ],
      "metadata": {
        "colab": {
          "base_uri": "https://localhost:8080/"
        },
        "id": "xG0VYRJpqHin",
        "outputId": "106511b8-bb20-421f-88db-29ba47cc21a5"
      },
      "execution_count": 22,
      "outputs": [
        {
          "output_type": "stream",
          "name": "stdout",
          "text": [
            "[[89 63]\n",
            " [92 48]]\n"
          ]
        }
      ]
    },
    {
      "cell_type": "markdown",
      "source": [
        "Perform a groupby operation on ‘Element’.  What is the total number of the sum of Processing in 2017?"
      ],
      "metadata": {
        "id": "17A9oHv_2clj"
      }
    },
    {
      "cell_type": "code",
      "source": [
        "y_2017 = df.groupby('Element')['Y2017'].sum()\n",
        "print(y_2017)"
      ],
      "metadata": {
        "colab": {
          "base_uri": "https://localhost:8080/"
        },
        "id": "er9jfFsn2dYL",
        "outputId": "74d0e809-0018-4ed8-e8aa-0ab67001702d"
      },
      "execution_count": 23,
      "outputs": [
        {
          "output_type": "stream",
          "name": "stdout",
          "text": [
            "Element\n",
            "Domestic supply quantity                  2088198.10\n",
            "Export Quantity                            182338.80\n",
            "Fat supply quantity (g/capita/day)          10253.84\n",
            "Feed                                       223705.68\n",
            "Food                                      1258888.28\n",
            "Food supply (kcal/capita/day)              454681.00\n",
            "Food supply quantity (kg/capita/yr)         48690.04\n",
            "Import Quantity                            294559.09\n",
            "Losses                                     160614.00\n",
            "Other uses (non-food)                       91645.97\n",
            "Processing                                 292836.00\n",
            "Production                                2030056.89\n",
            "Protein supply quantity (g/capita/day)      11842.45\n",
            "Residuals                                   35500.00\n",
            "Seed                                        24870.14\n",
            "Stock Variation                             54316.91\n",
            "Total Population - Both sexes             1112641.00\n",
            "Tourist consumption                            91.00\n",
            "Name: Y2017, dtype: float64\n"
          ]
        }
      ]
    },
    {
      "cell_type": "markdown",
      "source": [
        "What would be the output for?"
      ],
      "metadata": {
        "id": "qs0sXqNx7myD"
      }
    },
    {
      "cell_type": "code",
      "source": [
        "S = [['him', 'sell'], [90, 28, 43]]\n",
        "\n",
        "S[0][1][1]"
      ],
      "metadata": {
        "colab": {
          "base_uri": "https://localhost:8080/",
          "height": 36
        },
        "id": "Rt2lTjSw2rJT",
        "outputId": "a59c9632-6616-43bb-945d-22afe528e53b"
      },
      "execution_count": 24,
      "outputs": [
        {
          "output_type": "execute_result",
          "data": {
            "text/plain": [
              "'e'"
            ],
            "application/vnd.google.colaboratory.intrinsic+json": {
              "type": "string"
            }
          },
          "metadata": {},
          "execution_count": 24
        }
      ]
    },
    {
      "cell_type": "markdown",
      "source": [
        "What is the total number of unique countries in the dataset?"
      ],
      "metadata": {
        "id": "NLNlRrcG26X0"
      }
    },
    {
      "cell_type": "code",
      "source": [
        "# Extract unique countries\n",
        "unique_countries = df.groupby('Area').count()\n",
        "\n",
        "# Get the total number of unique countries\n",
        "total_unique_countries = len(unique_countries)\n",
        "print(unique_countries)\n",
        "print(\"Total number of unique countries:\", total_unique_countries)"
      ],
      "metadata": {
        "colab": {
          "base_uri": "https://localhost:8080/"
        },
        "id": "HTEAz9Mj25aU",
        "outputId": "65bddac3-0a42-49e2-e0ac-bed8dee4e19a"
      },
      "execution_count": 29,
      "outputs": [
        {
          "output_type": "stream",
          "name": "stdout",
          "text": [
            "                             Area Code  Item Code  Item  Element Code  \\\n",
            "Area                                                                    \n",
            "Algeria                           1313       1313  1313          1313   \n",
            "Angola                            1424       1424  1424          1424   \n",
            "Benin                             1285       1285  1285          1285   \n",
            "Botswana                          1378       1378  1378          1378   \n",
            "Burkina Faso                      1409       1409  1409          1409   \n",
            "Cabo Verde                        1260       1260  1260          1260   \n",
            "Cameroon                          1460       1460  1460          1460   \n",
            "Central African Republic          1344       1344  1344          1344   \n",
            "Chad                              1343       1343  1343          1343   \n",
            "Comoros                             45         45    45            45   \n",
            "Congo                             1413       1413  1413          1413   \n",
            "Côte d'Ivoire                     1467       1467  1467          1467   \n",
            "Djibouti                          1095       1095  1095          1095   \n",
            "Egypt                             1488       1488  1488          1488   \n",
            "Eswatini                          1284       1284  1284          1284   \n",
            "Ethiopia                          1447       1447  1447          1447   \n",
            "Ethiopia PDR                        39         39    39            39   \n",
            "Gabon                             1245       1245  1245          1245   \n",
            "Gambia                            1168       1168  1168          1168   \n",
            "Ghana                             1354       1354  1354          1354   \n",
            "Guinea                            1410       1410  1410          1410   \n",
            "Guinea-Bissau                     1128       1128  1128          1128   \n",
            "Kenya                             1560       1560  1560          1560   \n",
            "Lesotho                           1150       1150  1150          1150   \n",
            "Liberia                           1206       1206  1206          1206   \n",
            "Madagascar                        1439       1439  1439          1439   \n",
            "Malawi                            1447       1447  1447          1447   \n",
            "Mali                              1293       1293  1293          1293   \n",
            "Mauritania                        1195       1195  1195          1195   \n",
            "Mauritius                         1378       1378  1378          1378   \n",
            "Morocco                           1393       1393  1393          1393   \n",
            "Mozambique                        1427       1427  1427          1427   \n",
            "Namibia                           1283       1283  1283          1283   \n",
            "Niger                             1403       1403  1403          1403   \n",
            "Nigeria                           1474       1474  1474          1474   \n",
            "Rwanda                            1426       1426  1426          1426   \n",
            "Sao Tome and Principe             1177       1177  1177          1177   \n",
            "Senegal                           1462       1462  1462          1462   \n",
            "Seychelles                          68         68    68            68   \n",
            "Sierra Leone                      1242       1242  1242          1242   \n",
            "South Africa                      1399       1399  1399          1399   \n",
            "Sudan                             1316       1316  1316          1316   \n",
            "Sudan (former)                      53         53    53            53   \n",
            "Togo                              1294       1294  1294          1294   \n",
            "Tunisia                           1338       1338  1338          1338   \n",
            "Uganda                            1458       1458  1458          1458   \n",
            "United Republic of Tanzania       1419       1419  1419          1419   \n",
            "Zambia                            1451       1451  1451          1451   \n",
            "Zimbabwe                          1393       1393  1393          1393   \n",
            "\n",
            "                             Element  Unit  Y2014  Y2015  Y2016  Y2017  Y2018  \n",
            "Area                                                                           \n",
            "Algeria                         1313  1313   1261   1268   1274   1279   1298  \n",
            "Angola                          1424  1424   1378   1378   1388   1407   1396  \n",
            "Benin                           1285  1285   1250   1260   1257   1253   1252  \n",
            "Botswana                        1378  1378   1361   1369   1365   1368   1361  \n",
            "Burkina Faso                    1409  1409   1382   1372   1392   1383   1373  \n",
            "Cabo Verde                      1260  1260   1231   1229   1200   1193   1192  \n",
            "Cameroon                        1460  1460   1450   1443   1443   1441   1432  \n",
            "Central African Republic        1344  1344   1300   1296   1314   1262   1308  \n",
            "Chad                            1343  1343   1284   1303   1265   1281   1305  \n",
            "Comoros                           45    45     45     45     45     45     45  \n",
            "Congo                           1413  1413   1382   1377   1377   1395   1377  \n",
            "Côte d'Ivoire                   1467  1467   1444   1447   1455   1454   1455  \n",
            "Djibouti                        1095  1095   1052   1058   1054   1061   1040  \n",
            "Egypt                           1488  1488   1461   1473   1470   1458   1468  \n",
            "Eswatini                        1284  1284   1265   1240   1255   1251   1231  \n",
            "Ethiopia                        1447  1447   1424   1430   1410   1428   1425  \n",
            "Ethiopia PDR                      39    39     39     39     39     39     39  \n",
            "Gabon                           1245  1245   1200   1202   1198   1206   1192  \n",
            "Gambia                          1168  1168   1121   1115   1111   1116   1118  \n",
            "Ghana                           1354  1354   1337   1333   1330   1333   1337  \n",
            "Guinea                          1410  1410   1345   1349   1373   1383   1385  \n",
            "Guinea-Bissau                   1128  1128   1044   1040   1054   1076   1091  \n",
            "Kenya                           1560  1560   1544   1542   1540   1548   1548  \n",
            "Lesotho                         1150  1150   1130   1097   1116   1110   1094  \n",
            "Liberia                         1206  1206   1135   1134   1124   1135   1133  \n",
            "Madagascar                      1439  1439   1416   1429   1431   1425   1424  \n",
            "Malawi                          1447  1447   1416   1400   1394   1411   1410  \n",
            "Mali                            1293  1293   1252   1256   1250   1243   1260  \n",
            "Mauritania                      1195  1195   1106   1152   1119   1108   1170  \n",
            "Mauritius                       1378  1378   1355   1352   1344   1340   1342  \n",
            "Morocco                         1393  1393   1354   1381   1378   1369   1368  \n",
            "Mozambique                      1427  1427   1396   1394   1401   1406   1400  \n",
            "Namibia                         1283  1283   1274   1270   1266   1269   1256  \n",
            "Niger                           1403  1403   1357   1367   1355   1365   1368  \n",
            "Nigeria                         1474  1474   1470   1458   1460   1457   1456  \n",
            "Rwanda                          1426  1426   1400   1378   1400   1397   1403  \n",
            "Sao Tome and Principe           1177  1177   1108   1125   1140   1122   1109  \n",
            "Senegal                         1462  1462   1448   1449   1452   1452   1448  \n",
            "Seychelles                        68    68     68     68     68     68     68  \n",
            "Sierra Leone                    1242  1242   1177   1181   1188   1191   1197  \n",
            "South Africa                    1399  1399   1394   1395   1395   1395   1396  \n",
            "Sudan                           1316  1316   1277   1260   1271   1279   1268  \n",
            "Sudan (former)                    53    53     53     53     53     53     53  \n",
            "Togo                            1294  1294   1219   1226   1243   1234   1266  \n",
            "Tunisia                         1338  1338   1304   1318   1314   1314   1320  \n",
            "Uganda                          1458  1458   1446   1446   1446   1435   1445  \n",
            "United Republic of Tanzania     1419  1419   1401   1405   1403   1409   1408  \n",
            "Zambia                          1451  1451   1424   1420   1430   1425   1421  \n",
            "Zimbabwe                        1393  1393   1374   1373   1358   1365   1356  \n",
            "Total number of unique countries: 49\n"
          ]
        }
      ]
    },
    {
      "cell_type": "markdown",
      "source": [
        "If you have the following list\n",
        "\n",
        "lst = [[35, 'Portugal', 94], [33, 'Argentina', 93], [30 , 'Brazil', 92]]\n",
        "\n",
        "col = [‘Age’,’Nationality’,’Overall’]\n",
        "\n",
        "How do you create a pandas DataFrame using this list, to look like the table below?\n",
        "\n"
      ],
      "metadata": {
        "id": "C48jjnjE7eFb"
      }
    },
    {
      "cell_type": "code",
      "source": [
        "lst = [[35, 'Portugal', 94], [33, 'Argentina', 93], [30 , 'Brazil', 92]]\n",
        "\n",
        "col = ['Age','Nationality','Overall']\n",
        "df2 = pd.DataFrame(lst, columns = col, index = [i for i in range(1,4)])\n",
        "df2"
      ],
      "metadata": {
        "colab": {
          "base_uri": "https://localhost:8080/",
          "height": 143
        },
        "id": "gP31qYsG4DGc",
        "outputId": "4b807be7-10d7-4326-e6ee-351fee7e83cf"
      },
      "execution_count": 35,
      "outputs": [
        {
          "output_type": "execute_result",
          "data": {
            "text/plain": [
              "   Age Nationality  Overall\n",
              "1   35    Portugal       94\n",
              "2   33   Argentina       93\n",
              "3   30      Brazil       92"
            ],
            "text/html": [
              "\n",
              "  <div id=\"df-91fc3b03-7651-4a27-b5d0-cd477b20fe6a\">\n",
              "    <div class=\"colab-df-container\">\n",
              "      <div>\n",
              "<style scoped>\n",
              "    .dataframe tbody tr th:only-of-type {\n",
              "        vertical-align: middle;\n",
              "    }\n",
              "\n",
              "    .dataframe tbody tr th {\n",
              "        vertical-align: top;\n",
              "    }\n",
              "\n",
              "    .dataframe thead th {\n",
              "        text-align: right;\n",
              "    }\n",
              "</style>\n",
              "<table border=\"1\" class=\"dataframe\">\n",
              "  <thead>\n",
              "    <tr style=\"text-align: right;\">\n",
              "      <th></th>\n",
              "      <th>Age</th>\n",
              "      <th>Nationality</th>\n",
              "      <th>Overall</th>\n",
              "    </tr>\n",
              "  </thead>\n",
              "  <tbody>\n",
              "    <tr>\n",
              "      <th>1</th>\n",
              "      <td>35</td>\n",
              "      <td>Portugal</td>\n",
              "      <td>94</td>\n",
              "    </tr>\n",
              "    <tr>\n",
              "      <th>2</th>\n",
              "      <td>33</td>\n",
              "      <td>Argentina</td>\n",
              "      <td>93</td>\n",
              "    </tr>\n",
              "    <tr>\n",
              "      <th>3</th>\n",
              "      <td>30</td>\n",
              "      <td>Brazil</td>\n",
              "      <td>92</td>\n",
              "    </tr>\n",
              "  </tbody>\n",
              "</table>\n",
              "</div>\n",
              "      <button class=\"colab-df-convert\" onclick=\"convertToInteractive('df-91fc3b03-7651-4a27-b5d0-cd477b20fe6a')\"\n",
              "              title=\"Convert this dataframe to an interactive table.\"\n",
              "              style=\"display:none;\">\n",
              "        \n",
              "  <svg xmlns=\"http://www.w3.org/2000/svg\" height=\"24px\"viewBox=\"0 0 24 24\"\n",
              "       width=\"24px\">\n",
              "    <path d=\"M0 0h24v24H0V0z\" fill=\"none\"/>\n",
              "    <path d=\"M18.56 5.44l.94 2.06.94-2.06 2.06-.94-2.06-.94-.94-2.06-.94 2.06-2.06.94zm-11 1L8.5 8.5l.94-2.06 2.06-.94-2.06-.94L8.5 2.5l-.94 2.06-2.06.94zm10 10l.94 2.06.94-2.06 2.06-.94-2.06-.94-.94-2.06-.94 2.06-2.06.94z\"/><path d=\"M17.41 7.96l-1.37-1.37c-.4-.4-.92-.59-1.43-.59-.52 0-1.04.2-1.43.59L10.3 9.45l-7.72 7.72c-.78.78-.78 2.05 0 2.83L4 21.41c.39.39.9.59 1.41.59.51 0 1.02-.2 1.41-.59l7.78-7.78 2.81-2.81c.8-.78.8-2.07 0-2.86zM5.41 20L4 18.59l7.72-7.72 1.47 1.35L5.41 20z\"/>\n",
              "  </svg>\n",
              "      </button>\n",
              "      \n",
              "  <style>\n",
              "    .colab-df-container {\n",
              "      display:flex;\n",
              "      flex-wrap:wrap;\n",
              "      gap: 12px;\n",
              "    }\n",
              "\n",
              "    .colab-df-convert {\n",
              "      background-color: #E8F0FE;\n",
              "      border: none;\n",
              "      border-radius: 50%;\n",
              "      cursor: pointer;\n",
              "      display: none;\n",
              "      fill: #1967D2;\n",
              "      height: 32px;\n",
              "      padding: 0 0 0 0;\n",
              "      width: 32px;\n",
              "    }\n",
              "\n",
              "    .colab-df-convert:hover {\n",
              "      background-color: #E2EBFA;\n",
              "      box-shadow: 0px 1px 2px rgba(60, 64, 67, 0.3), 0px 1px 3px 1px rgba(60, 64, 67, 0.15);\n",
              "      fill: #174EA6;\n",
              "    }\n",
              "\n",
              "    [theme=dark] .colab-df-convert {\n",
              "      background-color: #3B4455;\n",
              "      fill: #D2E3FC;\n",
              "    }\n",
              "\n",
              "    [theme=dark] .colab-df-convert:hover {\n",
              "      background-color: #434B5C;\n",
              "      box-shadow: 0px 1px 3px 1px rgba(0, 0, 0, 0.15);\n",
              "      filter: drop-shadow(0px 1px 2px rgba(0, 0, 0, 0.3));\n",
              "      fill: #FFFFFF;\n",
              "    }\n",
              "  </style>\n",
              "\n",
              "      <script>\n",
              "        const buttonEl =\n",
              "          document.querySelector('#df-91fc3b03-7651-4a27-b5d0-cd477b20fe6a button.colab-df-convert');\n",
              "        buttonEl.style.display =\n",
              "          google.colab.kernel.accessAllowed ? 'block' : 'none';\n",
              "\n",
              "        async function convertToInteractive(key) {\n",
              "          const element = document.querySelector('#df-91fc3b03-7651-4a27-b5d0-cd477b20fe6a');\n",
              "          const dataTable =\n",
              "            await google.colab.kernel.invokeFunction('convertToInteractive',\n",
              "                                                     [key], {});\n",
              "          if (!dataTable) return;\n",
              "\n",
              "          const docLinkHtml = 'Like what you see? Visit the ' +\n",
              "            '<a target=\"_blank\" href=https://colab.research.google.com/notebooks/data_table.ipynb>data table notebook</a>'\n",
              "            + ' to learn more about interactive tables.';\n",
              "          element.innerHTML = '';\n",
              "          dataTable['output_type'] = 'display_data';\n",
              "          await google.colab.output.renderOutput(dataTable, element);\n",
              "          const docLink = document.createElement('div');\n",
              "          docLink.innerHTML = docLinkHtml;\n",
              "          element.appendChild(docLink);\n",
              "        }\n",
              "      </script>\n",
              "    </div>\n",
              "  </div>\n",
              "  "
            ]
          },
          "metadata": {},
          "execution_count": 35
        }
      ]
    },
    {
      "cell_type": "markdown",
      "source": [
        "What is the total Protein supply quantity in Madagascar in 2015?"
      ],
      "metadata": {
        "id": "R089vVGt44DU"
      }
    },
    {
      "cell_type": "code",
      "source": [
        "prot = df.groupby('Area')['Y2015'].sum()\n",
        "prot"
      ],
      "metadata": {
        "colab": {
          "base_uri": "https://localhost:8080/"
        },
        "id": "kVUhP6SO5CHr",
        "outputId": "8d099c0d-a901-41eb-ab61-8de7983a5c0d"
      },
      "execution_count": 41,
      "outputs": [
        {
          "output_type": "execute_result",
          "data": {
            "text/plain": [
              "Area\n",
              "Algeria                         324058.40\n",
              "Angola                          209565.67\n",
              "Benin                           108181.13\n",
              "Botswana                         23024.85\n",
              "Burkina Faso                    102701.22\n",
              "Cabo Verde                       14538.93\n",
              "Cameroon                        225220.72\n",
              "Central African Republic         28885.34\n",
              "Chad                             65835.88\n",
              "Comoros                             41.34\n",
              "Congo                            40255.51\n",
              "Côte d'Ivoire                   211591.29\n",
              "Djibouti                         23690.16\n",
              "Egypt                           868218.73\n",
              "Eswatini                         54072.07\n",
              "Ethiopia                        429139.33\n",
              "Ethiopia PDR                         0.00\n",
              "Gabon                            28367.30\n",
              "Gambia                           19665.39\n",
              "Ghana                           311092.13\n",
              "Guinea                           92803.39\n",
              "Guinea-Bissau                    17990.06\n",
              "Kenya                           265506.19\n",
              "Lesotho                          17965.84\n",
              "Liberia                          28698.10\n",
              "Madagascar                      126674.90\n",
              "Malawi                          167989.09\n",
              "Mali                            132456.58\n",
              "Mauritania                       61909.99\n",
              "Mauritius                        53372.42\n",
              "Morocco                         412473.80\n",
              "Mozambique                      158231.17\n",
              "Namibia                          30687.90\n",
              "Niger                           117834.65\n",
              "Nigeria                        1414362.83\n",
              "Rwanda                           70138.83\n",
              "Sao Tome and Principe            12386.93\n",
              "Senegal                          91939.14\n",
              "Seychelles                         358.20\n",
              "Sierra Leone                     62523.14\n",
              "South Africa                    468352.18\n",
              "Sudan                           230652.54\n",
              "Sudan (former)                       0.00\n",
              "Togo                             47834.59\n",
              "Tunisia                         128211.41\n",
              "Uganda                          220615.72\n",
              "United Republic of Tanzania     341969.46\n",
              "Zambia                           96214.00\n",
              "Zimbabwe                         74041.79\n",
              "Name: Y2015, dtype: float64"
            ]
          },
          "metadata": {},
          "execution_count": 41
        }
      ]
    },
    {
      "cell_type": "markdown",
      "source": [
        "Given the following python code, what would the output of the code give?\n",
        "\n",
        "my_tuppy = (1,2,5,8)\n",
        "\n",
        "my_tuppy[2] = 6"
      ],
      "metadata": {
        "id": "zqO_J2Gd49dz"
      }
    },
    {
      "cell_type": "code",
      "source": [
        "# my_tuppy = (1,2,5,8)\n",
        "\n",
        "# my_tuppy[2] = 6"
      ],
      "metadata": {
        "id": "PE5cavjb48Pb"
      },
      "execution_count": 42,
      "outputs": []
    }
  ]
}